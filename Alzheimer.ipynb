{
  "nbformat": 4,
  "nbformat_minor": 0,
  "metadata": {
    "colab": {
      "name": "Alzheimer.ipynb",
      "version": "0.3.2",
      "provenance": [],
      "include_colab_link": true
    },
    "kernelspec": {
      "name": "python3",
      "display_name": "Python 3"
    },
    "accelerator": "GPU"
  },
  "cells": [
    {
      "cell_type": "markdown",
      "metadata": {
        "id": "view-in-github",
        "colab_type": "text"
      },
      "source": [
        "<a href=\"https://colab.research.google.com/github/AjaySharvesh3/Carrer-Prediction/blob/master/Alzheimer.ipynb\" target=\"_parent\"><img src=\"https://colab.research.google.com/assets/colab-badge.svg\" alt=\"Open In Colab\"/></a>"
      ]
    },
    {
      "metadata": {
        "id": "TiRLHsqtAhfc",
        "colab_type": "code",
        "outputId": "d52b6597-9fda-40c3-8245-6888724c633e",
        "colab": {
          "base_uri": "https://localhost:8080/",
          "height": 34
        }
      },
      "cell_type": "code",
      "source": [
        "import keras\n",
        "import numpy as np\n",
        "from keras.applications import vgg16\n",
        "from keras.models import Sequential, Model\n",
        "from keras.layers import Dense, Flatten\n",
        "from keras.preprocessing.image import ImageDataGenerator\n",
        "from keras import optimizers\n",
        "from keras.optimizers import Adam"
      ],
      "execution_count": 1,
      "outputs": [
        {
          "output_type": "stream",
          "text": [
            "Using TensorFlow backend.\n"
          ],
          "name": "stderr"
        }
      ]
    },
    {
      "metadata": {
        "id": "izy2YjwQA4gM",
        "colab_type": "code",
        "outputId": "2fd86c37-a94c-44e1-c796-319e0dffe275",
        "colab": {
          "base_uri": "https://localhost:8080/",
          "height": 122
        }
      },
      "cell_type": "code",
      "source": [
        "from google.colab import drive\n",
        "drive.mount('/content/drive')"
      ],
      "execution_count": 2,
      "outputs": [
        {
          "output_type": "stream",
          "text": [
            "Go to this URL in a browser: https://accounts.google.com/o/oauth2/auth?client_id=947318989803-6bn6qk8qdgf4n4g3pfee6491hc0brc4i.apps.googleusercontent.com&redirect_uri=urn%3Aietf%3Awg%3Aoauth%3A2.0%3Aoob&scope=email%20https%3A%2F%2Fwww.googleapis.com%2Fauth%2Fdocs.test%20https%3A%2F%2Fwww.googleapis.com%2Fauth%2Fdrive%20https%3A%2F%2Fwww.googleapis.com%2Fauth%2Fdrive.photos.readonly%20https%3A%2F%2Fwww.googleapis.com%2Fauth%2Fpeopleapi.readonly&response_type=code\n",
            "\n",
            "Enter your authorization code:\n",
            "··········\n",
            "Mounted at /content/drive\n"
          ],
          "name": "stdout"
        }
      ]
    },
    {
      "metadata": {
        "id": "J3hRSPJPBJJk",
        "colab_type": "code",
        "colab": {}
      },
      "cell_type": "code",
      "source": [
        "train_data_dir = '/content/drive/My Drive/Colab Notebooks/Train/Train'\n",
        "validation_data_dir = '/content/drive/My Drive/Colab Notebooks/Test/'"
      ],
      "execution_count": 0,
      "outputs": []
    },
    {
      "metadata": {
        "id": "eX7scTY2YI56",
        "colab_type": "code",
        "colab": {
          "base_uri": "https://localhost:8080/",
          "height": 51
        },
        "outputId": "324ff6e3-0ec0-483b-cf36-debfdb294f9c"
      },
      "cell_type": "code",
      "source": [
        "batch_size = 16\n",
        "img_height = 208\n",
        "img_width = 176\n",
        "numClasses=4\n",
        "epoch=10\n",
        "\n",
        "train_datagen= ImageDataGenerator(\n",
        "        rescale= 1./255, \n",
        "        shear_range= 0.2,\n",
        "        zoom_range= 0.2, \n",
        "        horizontal_flip= True)\n",
        "\n",
        "validation_datagen= ImageDataGenerator(\n",
        "        rescale= 1./255)\n",
        "\n",
        "train_generator= train_datagen.flow_from_directory(\n",
        "        train_data_dir, target_size= (img_height, img_width),\n",
        "        batch_size= batch_size,\n",
        "        class_mode='categorical')\n",
        "\n",
        "validation_generator= validation_datagen.flow_from_directory(\n",
        "        validation_data_dir, target_size= (img_height, img_width),\n",
        "        batch_size= batch_size,\n",
        "        class_mode= 'categorical')"
      ],
      "execution_count": 4,
      "outputs": [
        {
          "output_type": "stream",
          "text": [
            "Found 5121 images belonging to 4 classes.\n",
            "Found 841 images belonging to 4 classes.\n"
          ],
          "name": "stdout"
        }
      ]
    },
    {
      "metadata": {
        "id": "E0zpjAMCYkpF",
        "colab_type": "code",
        "colab": {}
      },
      "cell_type": "code",
      "source": [
        "base_model= keras.applications.vgg16.VGG16(weights= 'imagenet', include_top= False, input_shape=(img_height, img_width, 3\n",
        "                                                                                                ))\n",
        "#print(vgg_model.summary())\n",
        "#print(type(vgg_model))"
      ],
      "execution_count": 0,
      "outputs": []
    },
    {
      "metadata": {
        "id": "n2cO5QaeYvnn",
        "colab_type": "code",
        "colab": {
          "base_uri": "https://localhost:8080/",
          "height": 1074
        },
        "outputId": "56f02195-a5e0-49d8-b3c7-adeaf152863f"
      },
      "cell_type": "code",
      "source": [
        "add_model= Sequential()\n",
        "add_model.add(Flatten(input_shape=base_model.output_shape[1:]))\n",
        "add_model.add(Dense(256, activation= 'relu'))\n",
        "add_model.add(Dense(4, activation='softmax'))\n",
        "\n",
        "model= Model(inputs= base_model.input, outputs=add_model(base_model.output))\n",
        "model.compile(loss='categorical_crossentropy', optimizer=optimizers.SGD(lr=1e-4, momentum=0.9),\n",
        "              metrics=['accuracy'])\n",
        "\n",
        "model.summary()\n",
        "\n",
        "steps_per_epoch = train_generator.n // batch_size\n",
        "validation_steps = validation_generator.n // batch_size\n",
        "\n",
        "model.fit_generator(train_generator,\n",
        "        epochs=epoch,\n",
        "        validation_data=validation_generator,\n",
        "        verbose=1,\t\n",
        " \tsteps_per_epoch=steps_per_epoch,\n",
        "\tvalidation_steps=validation_steps\n",
        "        )\n"
      ],
      "execution_count": 7,
      "outputs": [
        {
          "output_type": "stream",
          "text": [
            "_________________________________________________________________\n",
            "Layer (type)                 Output Shape              Param #   \n",
            "=================================================================\n",
            "input_2 (InputLayer)         (None, 208, 176, 3)       0         \n",
            "_________________________________________________________________\n",
            "block1_conv1 (Conv2D)        (None, 208, 176, 64)      1792      \n",
            "_________________________________________________________________\n",
            "block1_conv2 (Conv2D)        (None, 208, 176, 64)      36928     \n",
            "_________________________________________________________________\n",
            "block1_pool (MaxPooling2D)   (None, 104, 88, 64)       0         \n",
            "_________________________________________________________________\n",
            "block2_conv1 (Conv2D)        (None, 104, 88, 128)      73856     \n",
            "_________________________________________________________________\n",
            "block2_conv2 (Conv2D)        (None, 104, 88, 128)      147584    \n",
            "_________________________________________________________________\n",
            "block2_pool (MaxPooling2D)   (None, 52, 44, 128)       0         \n",
            "_________________________________________________________________\n",
            "block3_conv1 (Conv2D)        (None, 52, 44, 256)       295168    \n",
            "_________________________________________________________________\n",
            "block3_conv2 (Conv2D)        (None, 52, 44, 256)       590080    \n",
            "_________________________________________________________________\n",
            "block3_conv3 (Conv2D)        (None, 52, 44, 256)       590080    \n",
            "_________________________________________________________________\n",
            "block3_pool (MaxPooling2D)   (None, 26, 22, 256)       0         \n",
            "_________________________________________________________________\n",
            "block4_conv1 (Conv2D)        (None, 26, 22, 512)       1180160   \n",
            "_________________________________________________________________\n",
            "block4_conv2 (Conv2D)        (None, 26, 22, 512)       2359808   \n",
            "_________________________________________________________________\n",
            "block4_conv3 (Conv2D)        (None, 26, 22, 512)       2359808   \n",
            "_________________________________________________________________\n",
            "block4_pool (MaxPooling2D)   (None, 13, 11, 512)       0         \n",
            "_________________________________________________________________\n",
            "block5_conv1 (Conv2D)        (None, 13, 11, 512)       2359808   \n",
            "_________________________________________________________________\n",
            "block5_conv2 (Conv2D)        (None, 13, 11, 512)       2359808   \n",
            "_________________________________________________________________\n",
            "block5_conv3 (Conv2D)        (None, 13, 11, 512)       2359808   \n",
            "_________________________________________________________________\n",
            "block5_pool (MaxPooling2D)   (None, 6, 5, 512)         0         \n",
            "_________________________________________________________________\n",
            "sequential_1 (Sequential)    (None, 4)                 3933444   \n",
            "=================================================================\n",
            "Total params: 18,648,132\n",
            "Trainable params: 18,648,132\n",
            "Non-trainable params: 0\n",
            "_________________________________________________________________\n",
            "WARNING:tensorflow:From /usr/local/lib/python3.6/dist-packages/tensorflow/python/ops/math_ops.py:3066: to_int32 (from tensorflow.python.ops.math_ops) is deprecated and will be removed in a future version.\n",
            "Instructions for updating:\n",
            "Use tf.cast instead.\n",
            "Epoch 1/5\n",
            "320/320 [==============================] - 2585s 8s/step - loss: 0.9735 - acc: 0.5338 - val_loss: 0.7631 - val_acc: 0.5601\n",
            "Epoch 2/5\n",
            "320/320 [==============================] - 122s 380ms/step - loss: 0.8372 - acc: 0.6049 - val_loss: 0.9502 - val_acc: 0.5309\n",
            "Epoch 3/5\n",
            "320/320 [==============================] - 119s 372ms/step - loss: 0.7807 - acc: 0.6461 - val_loss: 0.8177 - val_acc: 0.6109\n",
            "Epoch 4/5\n",
            "320/320 [==============================] - 119s 372ms/step - loss: 0.6988 - acc: 0.6898 - val_loss: 0.6998 - val_acc: 0.6824\n",
            "Epoch 5/5\n",
            "320/320 [==============================] - 119s 372ms/step - loss: 0.6019 - acc: 0.7463 - val_loss: 0.6290 - val_acc: 0.7055\n"
          ],
          "name": "stdout"
        },
        {
          "output_type": "execute_result",
          "data": {
            "text/plain": [
              "<keras.callbacks.History at 0x7f9db905dbe0>"
            ]
          },
          "metadata": {
            "tags": []
          },
          "execution_count": 7
        }
      ]
    },
    {
      "metadata": {
        "id": "sGaAdusqlvw0",
        "colab_type": "code",
        "colab": {}
      },
      "cell_type": "code",
      "source": [
        "accuracies = cross_val_score(estimator = add_model, X = X_train, y = y_train, cv = 30)\n",
        "max = accuracies.max()"
      ],
      "execution_count": 0,
      "outputs": []
    }
  ]
}